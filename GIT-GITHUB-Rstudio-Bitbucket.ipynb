{
 "cells": [
  {
   "cell_type": "code",
   "execution_count": null,
   "id": "0366f3c7",
   "metadata": {},
   "outputs": [],
   "source": [
    "### How to download/pull from github to local computer ####\n",
    "\n",
    "STEP 1: open git bash/terminal from start menu\n",
    "STEP 2: make a directory to save the files mkdir git_demo\n",
    "STEP 3: cd git_demo\n",
    "STEP 4: git init\n",
    "STEP 5: copy the link from github where to download the files\n",
    "STEP 6: git clone paste_the_copied_link #### or\n",
    "STEP 7: git pull paste_the_copied_link"
   ]
  },
  {
   "cell_type": "code",
   "execution_count": null,
   "id": "f7ef149e",
   "metadata": {},
   "outputs": [],
   "source": [
    "### How to upload/push my Project files to Github using terminal ubuntu? ######\n",
    "\n",
    "STEP 1: make a new repository in github #newrepo\n",
    "STEP 2: save ur file in a new_directory in the laptop\n",
    "STEP 3: open the terminal/gitbash go to that new_directory by command line\n",
    "    \n",
    "STEP 4: git init\n",
    "STEP 5: git add .\n",
    "STEP 6: git status # see which project files are going to be push\n",
    "STEP 7: git commit -m \"my first commit\" # for example \"my first commit\"\n",
    "STEP 8: go to github repository and copy the link of the repo  \n",
    "STEP 9: git remote add origin \"paste the link of git repo\"\n",
    "STEP 10:git remote -v ## to get the permision\n",
    "\n",
    "STEP 11:  git push -u origin master ## it will ask github username and github password\n",
    "\n",
    "If ask identity\n",
    " run\n",
    "  git config --global user.email \"someone@gmail.com\"   #github email\n",
    "  git config --global user.name someone    #github username\n",
    "\n",
    "STEP 12: Go to Github and refresh it\n",
    "    "
   ]
  },
  {
   "cell_type": "code",
   "execution_count": null,
   "id": "3abfeddf",
   "metadata": {},
   "outputs": [],
   "source": [
    "    # some other commands\n",
    "    \n",
    "    git push -u origin master\n",
    "    git push -f origin master\n",
    "    git status    # to see the status\n",
    "    git stash    # to recover deleted files\n",
    "    git log     # to see all the changes\n",
    "    git commit # to change commit locally\n",
    "    git difftool # to see the differences\n",
    "    \n",
    "    git help # for see help options in need"
   ]
  },
  {
   "cell_type": "code",
   "execution_count": null,
   "id": "5f0eff36",
   "metadata": {},
   "outputs": [],
   "source": []
  },
  {
   "cell_type": "code",
   "execution_count": null,
   "id": "407ee38d",
   "metadata": {},
   "outputs": [],
   "source": [
    "### Git,Github and R ###\n",
    "\n",
    "STEP 1: Create a new repository in github\n",
    "STEP 2: Copy the github repository link you created\n",
    "STEP 3: Go to Rstudio > FILE > NEW PROJECT > VERSION CONTROL > GIT > Paste the github repo URL\n",
    "STEP 4: Give the Project directory name same as the github project name [its better to give same name]\n",
    "STEP 5: Also mention the path of directory to create a project as subdirectory in the laptop\n",
    "STEP 6: Click create a New Project in Rstudio\n",
    "STEP 7: Now a Git tab created on Rstudio beside environment\n",
    "    \n",
    "STEP 8:  Click on Git on Rstudio\n",
    "STEP 9:  Open a new R markdown file/R script and save it in laptop subdirectory\n",
    "STEP 10: Save this new R markdown file into the subdirectory of the laptop\n",
    "STEP 11: Git(Rstudio) > select all the Staged\n",
    "STEP 12: CLick on Commit (Rstudio)\n",
    "STEP 13: In the commit messege upper left write \"Initial Commit\"\n",
    "STEP 14: Click on Commit to confirmed\n",
    "STEP 15: Close the git commit outlay\n",
    "STEP 16: Go to Commit outlay and click on History to see the changes and click on changes\n",
    "STEP 17: Click on Push Arrow Button on git commit outlay\n",
    "STEP 18: It will ask github username and password\n",
    "STEP 19: close the Git Push\n",
    "STEP 20: Another way is to click on git and then click on Push arrow beside git to push\n",
    "STEP 21: After pushing the file will not be shown in the fit\n",
    "STEP 22: After pushing if you do some modifications and save again the file will show up again in git\n",
    "STEP 23: After edit and saving you can do commit again and pushing again\n",
    "\n",
    "    "
   ]
  },
  {
   "cell_type": "code",
   "execution_count": null,
   "id": "55a9b82d",
   "metadata": {},
   "outputs": [],
   "source": [
    "## Bitbucket\n",
    "\n",
    "> cd scrnaseq\n",
    "\n",
    "> git status\n",
    "\n",
    "> git stash\n",
    "\n",
    "> git pull origin master"
   ]
  }
 ],
 "metadata": {
  "kernelspec": {
   "display_name": "Python 3",
   "language": "python",
   "name": "python3"
  },
  "language_info": {
   "codemirror_mode": {
    "name": "ipython",
    "version": 3
   },
   "file_extension": ".py",
   "mimetype": "text/x-python",
   "name": "python",
   "nbconvert_exporter": "python",
   "pygments_lexer": "ipython3",
   "version": "3.8.5"
  }
 },
 "nbformat": 4,
 "nbformat_minor": 5
}
